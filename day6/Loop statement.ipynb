{
 "cells": [
  {
   "cell_type": "code",
   "execution_count": 2,
   "id": "93ce29d7-45e5-49d3-abce-cfab914504b0",
   "metadata": {},
   "outputs": [
    {
     "name": "stdout",
     "output_type": "stream",
     "text": [
      "1 *\n",
      "2 **\n",
      "3 ***\n",
      "4 ****\n"
     ]
    }
   ],
   "source": [
    "a = \"*\"\n",
    "\n",
    "for i in range (1,5):\n",
    "    print (i, \"*\" *i)"
   ]
  },
  {
   "cell_type": "code",
   "execution_count": 3,
   "id": "99715d15-7068-4ac2-8148-70b152fff656",
   "metadata": {},
   "outputs": [
    {
     "name": "stdout",
     "output_type": "stream",
     "text": [
      "1\n",
      "12\n",
      "123\n",
      "1234\n",
      "12345\n"
     ]
    }
   ],
   "source": [
    "res = \"\"\n",
    "for i in range (1,6):\n",
    "    res = res + str(i)\n",
    "    print (res)"
   ]
  },
  {
   "cell_type": "code",
   "execution_count": 11,
   "id": "f14e4912-cf39-492e-8a5f-d7cbc981e017",
   "metadata": {},
   "outputs": [
    {
     "name": "stdout",
     "output_type": "stream",
     "text": [
      "1\n",
      "12\n",
      "123\n",
      "1234\n",
      "12345\n",
      "123456\n",
      "1234567\n",
      "12345678\n",
      "123456789\n",
      "12345678910\n"
     ]
    }
   ],
   "source": [
    "y = \"\"\n",
    "for i in range (1,11):\n",
    "    y= y + str(i)\n",
    "    print (y)\n",
    "\n",
    "    "
   ]
  },
  {
   "cell_type": "code",
   "execution_count": 18,
   "id": "7220faec-8031-449d-9fe1-53219ae0aa28",
   "metadata": {},
   "outputs": [
    {
     "name": "stdout",
     "output_type": "stream",
     "text": [
      "0\n",
      "1\n",
      "2\n",
      "3\n",
      "4\n"
     ]
    }
   ],
   "source": [
    "i = 0\n",
    "\n",
    "while i < 5:\n",
    "     print(i)\n",
    "     i += 1\n",
    "     "
   ]
  },
  {
   "cell_type": "code",
   "execution_count": null,
   "id": "2492e023-001e-4cf4-b0b2-1c3505fd2ba7",
   "metadata": {},
   "outputs": [],
   "source": [
    "n = 1\n",
    "\n",
    "while i < 10:\n",
    "     print(i*5)\n",
    "     i += 1\n"
   ]
  },
  {
   "cell_type": "code",
   "execution_count": 5,
   "id": "d9f4f986-956a-488d-ae98-2137b9839d97",
   "metadata": {},
   "outputs": [
    {
     "ename": "SyntaxError",
     "evalue": "invalid syntax (217601956.py, line 1)",
     "output_type": "error",
     "traceback": [
      "\u001b[1;36m  Cell \u001b[1;32mIn[5], line 1\u001b[1;36m\u001b[0m\n\u001b[1;33m    num =int(input(\"enter a number\":))\u001b[0m\n\u001b[1;37m                                   ^\u001b[0m\n\u001b[1;31mSyntaxError\u001b[0m\u001b[1;31m:\u001b[0m invalid syntax\n"
     ]
    }
   ],
   "source": [
    "num =int(input(\"enter a number\":))\n",
    "i =1\n",
    "while(i<=10):\n",
    "    print(i*sum)\n",
    "    i=+1\n",
    "                 "
   ]
  },
  {
   "cell_type": "code",
   "execution_count": 1,
   "id": "c7ab7e0e-a3bb-4dbb-9182-e624b9c32b68",
   "metadata": {},
   "outputs": [
    {
     "name": "stdout",
     "output_type": "stream",
     "text": [
      "12 x 1 = 12\n",
      "12 x 2 = 24\n",
      "12 x 3 = 36\n",
      "12 x 4 = 48\n",
      "12 x 5 = 60\n",
      "12 x 6 = 72\n",
      "12 x 7 = 84\n",
      "12 x 8 = 96\n",
      "12 x 9 = 108\n",
      "12 x 10 = 120\n",
      "finished\n"
     ]
    }
   ],
   "source": [
    "num =12\n",
    "i=1\n",
    "while i<=10:\n",
    "    result = num *i\n",
    "    print (f\"{num} x {i} = {result}\")\n",
    "    i+=1\n",
    "    \n",
    "print (\"finished\")\n",
    "\n"
   ]
  },
  {
   "cell_type": "code",
   "execution_count": 1,
   "id": "a3e1aca3-7e3a-4a47-b8dd-15546745f6e1",
   "metadata": {},
   "outputs": [
    {
     "name": "stdout",
     "output_type": "stream",
     "text": [
      "12 x 1 = 12\n",
      "12 x 2 = 24\n",
      "12 x 3 = 36\n",
      "12 x 4 = 48\n",
      "12 x 5 = 60\n",
      "12 x 6 = 72\n",
      "12 x 7 = 84\n",
      "12 x 8 = 96\n",
      "12 x 9 = 108\n",
      "finished\n"
     ]
    }
   ],
   "source": [
    "num =12\n",
    "i=1\n",
    "while True:\n",
    "    result = num *i\n",
    "    print (f\"{num} x {i} = {result}\")\n",
    "    i += 1\n",
    "    if result >100:\n",
    "        break\n",
    "    \n",
    "print (\"finished\")\n"
   ]
  },
  {
   "cell_type": "code",
   "execution_count": 4,
   "id": "206cf79f-ae46-4fa3-9534-c9c4b16e2b9e",
   "metadata": {},
   "outputs": [
    {
     "ename": "SyntaxError",
     "evalue": "unterminated f-string literal (detected at line 12) (3884637324.py, line 12)",
     "output_type": "error",
     "traceback": [
      "\u001b[1;36m  Cell \u001b[1;32mIn[4], line 12\u001b[1;36m\u001b[0m\n\u001b[1;33m    print (f\"sum of {num} num is {sum}:)\u001b[0m\n\u001b[1;37m           ^\u001b[0m\n\u001b[1;31mSyntaxError\u001b[0m\u001b[1;31m:\u001b[0m unterminated f-string literal (detected at line 12)\n"
     ]
    }
   ],
   "source": [
    "num =10\n",
    "sum =0\n",
    "\n",
    "i=0\n",
    "while i <= num:\n",
    "    if (sum+i) %2 !=0:\n",
    "        continue\n",
    "\n",
    "    sum = sum + 1\n",
    "    i +=1\n",
    "\n",
    "print (f\"sum of {num} num is {sum}:)\n"
   ]
  },
  {
   "cell_type": "code",
   "execution_count": 7,
   "id": "5703aea2-2b88-4c3f-9732-140ef28f4902",
   "metadata": {},
   "outputs": [
    {
     "name": "stdout",
     "output_type": "stream",
     "text": [
      "0\n",
      "1\n",
      "2\n",
      "4\n",
      "5\n",
      "6\n",
      "7\n",
      "8\n"
     ]
    }
   ],
   "source": [
    "for i in range (9):\n",
    "    if i == 3:\n",
    "        continue\n",
    "\n",
    "    print(i)"
   ]
  },
  {
   "cell_type": "code",
   "execution_count": 8,
   "id": "13158b09-d9c5-4147-82f7-dbf04fc9add0",
   "metadata": {},
   "outputs": [
    {
     "name": "stdout",
     "output_type": "stream",
     "text": [
      "[4, 7, 7, 8]\n"
     ]
    }
   ],
   "source": [
    "words = [ \"data\", \"science\", \"machine\", \"learning\"]\n",
    "\n",
    "result = []\n",
    "for word in words:\n",
    "    result.append (len(word))\n",
    "\n",
    "print (result)"
   ]
  },
  {
   "cell_type": "code",
   "execution_count": 13,
   "id": "492b5bf7-485b-4d3b-a9cc-4a31f64a0169",
   "metadata": {},
   "outputs": [
    {
     "name": "stdout",
     "output_type": "stream",
     "text": [
      "[3, 5, 7, 7]\n"
     ]
    }
   ],
   "source": [
    "words = [ \"data\", \"science\", \"machine\", \"learning\"]\n",
    "\n",
    "length = [ len(set(word)) for word in words]\n",
    "print (length)\n",
    "\n"
   ]
  },
  {
   "cell_type": "code",
   "execution_count": 17,
   "id": "23292ff3-70dc-4a20-9647-d5150b34ddf3",
   "metadata": {},
   "outputs": [
    {
     "data": {
      "text/plain": [
       "{'a', 'e', 'i', 'o'}"
      ]
     },
     "execution_count": 17,
     "metadata": {},
     "output_type": "execute_result"
    }
   ],
   "source": [
    "sent = \"I love machine learning\"\n",
    "vowels = set(\"aeiou\")\n",
    "\n",
    "output = {\n",
    "    char\n",
    "    for char in sent.lower()\n",
    "    if char in vowels\n",
    "}\n",
    "output"
   ]
  },
  {
   "cell_type": "code",
   "execution_count": null,
   "id": "93d56160-4e7a-4dbd-a0fc-57e9f956c1cf",
   "metadata": {},
   "outputs": [],
   "source": []
  }
 ],
 "metadata": {
  "kernelspec": {
   "display_name": "Python 3 (ipykernel)",
   "language": "python",
   "name": "python3"
  },
  "language_info": {
   "codemirror_mode": {
    "name": "ipython",
    "version": 3
   },
   "file_extension": ".py",
   "mimetype": "text/x-python",
   "name": "python",
   "nbconvert_exporter": "python",
   "pygments_lexer": "ipython3",
   "version": "3.12.5"
  }
 },
 "nbformat": 4,
 "nbformat_minor": 5
}
