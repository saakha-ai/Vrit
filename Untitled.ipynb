{
 "cells": [
  {
   "cell_type": "code",
   "execution_count": 1,
   "id": "8d0d2bcd-10be-4ac7-9df5-fe4241f1b27c",
   "metadata": {},
   "outputs": [],
   "source": [
    "x=  \" Hello\"\n",
    "y= \"World\""
   ]
  },
  {
   "cell_type": "code",
   "execution_count": 2,
   "id": "d8c6bcb5-58fa-4efa-bfa7-35ec17d68e37",
   "metadata": {},
   "outputs": [],
   "source": [
    "name = \"aastha Saakha\"\n"
   ]
  },
  {
   "cell_type": "code",
   "execution_count": 3,
   "id": "3f01105a-bfc2-46be-9781-7a4f100f499e",
   "metadata": {},
   "outputs": [],
   "source": [
    "words =\" he isn't\""
   ]
  },
  {
   "cell_type": "code",
   "execution_count": 4,
   "id": "62d667aa-1dc6-4242-af59-ccb7ad13da77",
   "metadata": {},
   "outputs": [
    {
     "data": {
      "text/plain": [
       "str"
      ]
     },
     "execution_count": 4,
     "metadata": {},
     "output_type": "execute_result"
    }
   ],
   "source": [
    "type (name)"
   ]
  },
  {
   "cell_type": "code",
   "execution_count": 5,
   "id": "c41f2f2d-ce68-4872-8a27-a5431614a04a",
   "metadata": {},
   "outputs": [
    {
     "name": "stdout",
     "output_type": "stream",
     "text": [
      " he isn't\n"
     ]
    }
   ],
   "source": [
    "print (words)"
   ]
  },
  {
   "cell_type": "code",
   "execution_count": 6,
   "id": "891a659f-b617-4414-bdae-e920ea80ca31",
   "metadata": {},
   "outputs": [
    {
     "data": {
      "text/plain": [
       "['__add__',\n",
       " '__class__',\n",
       " '__contains__',\n",
       " '__delattr__',\n",
       " '__dir__',\n",
       " '__doc__',\n",
       " '__eq__',\n",
       " '__format__',\n",
       " '__ge__',\n",
       " '__getattribute__',\n",
       " '__getitem__',\n",
       " '__getnewargs__',\n",
       " '__getstate__',\n",
       " '__gt__',\n",
       " '__hash__',\n",
       " '__init__',\n",
       " '__init_subclass__',\n",
       " '__iter__',\n",
       " '__le__',\n",
       " '__len__',\n",
       " '__lt__',\n",
       " '__mod__',\n",
       " '__mul__',\n",
       " '__ne__',\n",
       " '__new__',\n",
       " '__reduce__',\n",
       " '__reduce_ex__',\n",
       " '__repr__',\n",
       " '__rmod__',\n",
       " '__rmul__',\n",
       " '__setattr__',\n",
       " '__sizeof__',\n",
       " '__str__',\n",
       " '__subclasshook__',\n",
       " 'capitalize',\n",
       " 'casefold',\n",
       " 'center',\n",
       " 'count',\n",
       " 'encode',\n",
       " 'endswith',\n",
       " 'expandtabs',\n",
       " 'find',\n",
       " 'format',\n",
       " 'format_map',\n",
       " 'index',\n",
       " 'isalnum',\n",
       " 'isalpha',\n",
       " 'isascii',\n",
       " 'isdecimal',\n",
       " 'isdigit',\n",
       " 'isidentifier',\n",
       " 'islower',\n",
       " 'isnumeric',\n",
       " 'isprintable',\n",
       " 'isspace',\n",
       " 'istitle',\n",
       " 'isupper',\n",
       " 'join',\n",
       " 'ljust',\n",
       " 'lower',\n",
       " 'lstrip',\n",
       " 'maketrans',\n",
       " 'partition',\n",
       " 'removeprefix',\n",
       " 'removesuffix',\n",
       " 'replace',\n",
       " 'rfind',\n",
       " 'rindex',\n",
       " 'rjust',\n",
       " 'rpartition',\n",
       " 'rsplit',\n",
       " 'rstrip',\n",
       " 'split',\n",
       " 'splitlines',\n",
       " 'startswith',\n",
       " 'strip',\n",
       " 'swapcase',\n",
       " 'title',\n",
       " 'translate',\n",
       " 'upper',\n",
       " 'zfill']"
      ]
     },
     "execution_count": 6,
     "metadata": {},
     "output_type": "execute_result"
    }
   ],
   "source": [
    "dir (words)"
   ]
  },
  {
   "cell_type": "code",
   "execution_count": 7,
   "id": "d37e318b-7765-45b6-9494-cbb9274e5294",
   "metadata": {},
   "outputs": [],
   "source": [
    "x= \"hello\""
   ]
  },
  {
   "cell_type": "code",
   "execution_count": 8,
   "id": "58035fbf-c863-4133-afd7-cae406a3a183",
   "metadata": {},
   "outputs": [],
   "source": [
    "y= \"World\""
   ]
  },
  {
   "cell_type": "code",
   "execution_count": 12,
   "id": "f4295e18-99f1-4353-8bc1-5f3571c0b169",
   "metadata": {},
   "outputs": [
    {
     "data": {
      "text/plain": [
       "'WorldWorld'"
      ]
     },
     "execution_count": 12,
     "metadata": {},
     "output_type": "execute_result"
    }
   ],
   "source": [
    "x+y"
   ]
  },
  {
   "cell_type": "code",
   "execution_count": null,
   "id": "e1588f22-2eca-499b-92b6-bd2a7d45faba",
   "metadata": {},
   "outputs": [],
   "source": []
  },
  {
   "cell_type": "code",
   "execution_count": 13,
   "id": "281d4f11-11cc-4ea4-a6aa-73508e580054",
   "metadata": {},
   "outputs": [
    {
     "name": "stdout",
     "output_type": "stream",
     "text": [
      "\f",
      "\n"
     ]
    }
   ],
   "source": [
    "clear"
   ]
  },
  {
   "cell_type": "code",
   "execution_count": 14,
   "id": "e90e78a4-3ae6-400a-9f95-1272c266c35a",
   "metadata": {},
   "outputs": [],
   "source": [
    "x= \"hello\""
   ]
  },
  {
   "cell_type": "code",
   "execution_count": 15,
   "id": "12660374-96d7-4544-96ff-529880b75ad1",
   "metadata": {},
   "outputs": [],
   "source": [
    "y= \"world\""
   ]
  },
  {
   "cell_type": "code",
   "execution_count": 17,
   "id": "a766f150-985d-4e96-9757-25b04e439cc9",
   "metadata": {},
   "outputs": [
    {
     "data": {
      "text/plain": [
       "'helloworld'"
      ]
     },
     "execution_count": 17,
     "metadata": {},
     "output_type": "execute_result"
    }
   ],
   "source": [
    "x+y"
   ]
  },
  {
   "cell_type": "code",
   "execution_count": 18,
   "id": "d4fae5d6-f343-4fc7-9cb7-087db4a8bd62",
   "metadata": {},
   "outputs": [
    {
     "data": {
      "text/plain": [
       "'hello world'"
      ]
     },
     "execution_count": 18,
     "metadata": {},
     "output_type": "execute_result"
    }
   ],
   "source": [
    "x+ \" \" +y"
   ]
  },
  {
   "cell_type": "code",
   "execution_count": 19,
   "id": "529d10eb-1bf3-4412-8b27-2c82f6e4de25",
   "metadata": {},
   "outputs": [
    {
     "data": {
      "text/plain": [
       "'hello world'"
      ]
     },
     "execution_count": 19,
     "metadata": {},
     "output_type": "execute_result"
    }
   ],
   "source": [
    "f\"{x} {y}\""
   ]
  },
  {
   "cell_type": "code",
   "execution_count": 20,
   "id": "69baa4a5-b2ec-43c2-9ad9-a7928c22e64d",
   "metadata": {},
   "outputs": [
    {
     "name": "stdout",
     "output_type": "stream",
     "text": [
      "\f",
      "\n"
     ]
    }
   ],
   "source": [
    "clear\n"
   ]
  },
  {
   "cell_type": "code",
   "execution_count": 23,
   "id": "bea3428b-3f03-4889-bc0f-fa3d27f9d4dc",
   "metadata": {},
   "outputs": [],
   "source": [
    "x= [1,2,3,4,5]\n",
    "y= [ 'apple', 'banana', 'orange']\n",
    "z= [1,'apple', True, 3.14]"
   ]
  },
  {
   "cell_type": "code",
   "execution_count": 24,
   "id": "e29c9efa-ed09-4a66-93a2-c94a9ac17441",
   "metadata": {},
   "outputs": [
    {
     "name": "stdout",
     "output_type": "stream",
     "text": [
      "[1, 'apple', True, 3.14]\n"
     ]
    }
   ],
   "source": [
    "print (z)"
   ]
  },
  {
   "cell_type": "code",
   "execution_count": null,
   "id": "29d1bfb0-f255-434c-ab19-1a60bd53aadc",
   "metadata": {},
   "outputs": [],
   "source": []
  },
  {
   "cell_type": "code",
   "execution_count": 27,
   "id": "496c0b9a-6469-4975-93f6-cf2ba6c4da89",
   "metadata": {},
   "outputs": [
    {
     "name": "stdout",
     "output_type": "stream",
     "text": [
      "[1, 2, 40, 4, 5]\n"
     ]
    }
   ],
   "source": [
    "x=[1,2,3,4,5]\n",
    "x[2] =40\n",
    "print (x)"
   ]
  },
  {
   "cell_type": "code",
   "execution_count": 28,
   "id": "4425992c-af64-440a-a86b-72a925c37652",
   "metadata": {},
   "outputs": [
    {
     "name": "stdout",
     "output_type": "stream",
     "text": [
      "[1, 2, ' hello', 4, 5]\n"
     ]
    }
   ],
   "source": [
    "x=[1,2,3,4,5]\n",
    "x[2] = \" hello\"\n",
    "print (x)"
   ]
  },
  {
   "cell_type": "code",
   "execution_count": 30,
   "id": "a55c8f2c-c16a-4350-b113-64174edc5a58",
   "metadata": {},
   "outputs": [
    {
     "name": "stdout",
     "output_type": "stream",
     "text": [
      "[1, 2, 3, 4, 5, 6]\n"
     ]
    }
   ],
   "source": [
    "x=[1,2,3,4,5]\n",
    "x.append (6)\n",
    "print (x)"
   ]
  },
  {
   "cell_type": "code",
   "execution_count": 44,
   "id": "016611ab-714e-4ae2-959c-d92e7506a173",
   "metadata": {},
   "outputs": [
    {
     "name": "stdout",
     "output_type": "stream",
     "text": [
      "[1, 2, 'apple', 3, 4, 5]\n"
     ]
    }
   ],
   "source": [
    "x=[1,2,3,4,5]\n",
    "x.insert (2, \"apple\")\n",
    "print (x)"
   ]
  },
  {
   "cell_type": "code",
   "execution_count": 45,
   "id": "8e8f0b80-44e1-4247-87c9-9b1bd35493e8",
   "metadata": {},
   "outputs": [
    {
     "name": "stdout",
     "output_type": "stream",
     "text": [
      "[1, 2, 3, 4, 5]\n"
     ]
    }
   ],
   "source": [
    "x.remove(\"apple\")\n",
    "print (x)"
   ]
  },
  {
   "cell_type": "code",
   "execution_count": 46,
   "id": "2fa22b52-d131-4363-ac44-c543067e107d",
   "metadata": {},
   "outputs": [
    {
     "name": "stdout",
     "output_type": "stream",
     "text": [
      "\f",
      "\n"
     ]
    }
   ],
   "source": [
    "clear\n"
   ]
  },
  {
   "cell_type": "code",
   "execution_count": 51,
   "id": "c0eebd43-27f8-47a6-8ac5-e8faac10ec29",
   "metadata": {},
   "outputs": [
    {
     "name": "stdout",
     "output_type": "stream",
     "text": [
      "[1, 3, 3, 4, 4, 4, 6, 7, 9]\n"
     ]
    }
   ],
   "source": [
    "x=[ 3,1,4,6,7,9,3,4,4]\n",
    "\n",
    "x.sort()\n",
    "print (x)"
   ]
  },
  {
   "cell_type": "code",
   "execution_count": 52,
   "id": "b2dd2348-b1db-4ff5-a6ff-1f675b5af7a6",
   "metadata": {},
   "outputs": [
    {
     "name": "stdout",
     "output_type": "stream",
     "text": [
      "[9, 7, 6, 4, 4, 4, 3, 3, 1]\n"
     ]
    }
   ],
   "source": [
    "x.reverse()\n",
    "print (x)"
   ]
  },
  {
   "cell_type": "code",
   "execution_count": 53,
   "id": "a152ca41-8213-4f50-9ff6-09dfc626ff5a",
   "metadata": {},
   "outputs": [
    {
     "name": "stdout",
     "output_type": "stream",
     "text": [
      "[9, 7, 6, 4, 4, 4, 3, 3, 1]\n"
     ]
    }
   ],
   "source": [
    "x.sort(reverse=True)\n",
    "print(x)\n",
    "       "
   ]
  },
  {
   "cell_type": "code",
   "execution_count": 54,
   "id": "bde29ecb-a8d6-4b10-a013-740d3703271f",
   "metadata": {},
   "outputs": [
    {
     "name": "stdout",
     "output_type": "stream",
     "text": [
      "[1, 3, 3, 4, 4, 4, 6, 7, 9]\n"
     ]
    }
   ],
   "source": [
    "x.sort(reverse=False)\n",
    "print(x)"
   ]
  },
  {
   "cell_type": "code",
   "execution_count": null,
   "id": "af53fd8e-fa2b-47c0-942e-3bf9cad3f1a4",
   "metadata": {},
   "outputs": [],
   "source": []
  }
 ],
 "metadata": {
  "kernelspec": {
   "display_name": "Python 3 (ipykernel)",
   "language": "python",
   "name": "python3"
  },
  "language_info": {
   "codemirror_mode": {
    "name": "ipython",
    "version": 3
   },
   "file_extension": ".py",
   "mimetype": "text/x-python",
   "name": "python",
   "nbconvert_exporter": "python",
   "pygments_lexer": "ipython3",
   "version": "3.12.5"
  }
 },
 "nbformat": 4,
 "nbformat_minor": 5
}
