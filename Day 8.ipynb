{
 "cells": [
  {
   "cell_type": "code",
   "execution_count": 2,
   "id": "145c9583-b33b-4b25-bfd4-4bde998bbc46",
   "metadata": {},
   "outputs": [
    {
     "name": "stdout",
     "output_type": "stream",
     "text": [
      "{'data': 4, 'science': 7, 'machine': 7, 'learning': 8}\n"
     ]
    }
   ],
   "source": [
    "word = [\"data\", \"science\" ,  \"machine\" , \"learning\"]\n",
    "word_detail = {data: len (data) for data in word}\n",
    "print (word_detail)\n"
   ]
  },
  {
   "cell_type": "code",
   "execution_count": 15,
   "id": "6e9d9b73-e05f-4e58-b2e1-9194069e7953",
   "metadata": {},
   "outputs": [
    {
     "name": "stdout",
     "output_type": "stream",
     "text": [
      "{1: 1, 3: 9, 5: 25}\n"
     ]
    }
   ],
   "source": [
    "odds_dict = {}\n",
    "for num in range (1,6):\n",
    "    if num %2 != 0:\n",
    "        odds_dict [num] = num **2\n",
    "print (odds_dict)\n"
   ]
  },
  {
   "cell_type": "code",
   "execution_count": 23,
   "id": "fc8f1fb9-437b-49aa-8744-6de7597a6619",
   "metadata": {},
   "outputs": [
    {
     "name": "stdout",
     "output_type": "stream",
     "text": [
      "{1: 1, 3: 9, 5: 25}\n"
     ]
    }
   ],
   "source": [
    "numbers = [1,2,3,4,5] \n",
    "odds_dict = {num : num ** 2 for num in numbers if num % 2 != 0}\n",
    "print (odds_dict)"
   ]
  },
  {
   "cell_type": "code",
   "execution_count": 30,
   "id": "8e18955a-ac72-43bc-b921-6d7fb29884f1",
   "metadata": {},
   "outputs": [
    {
     "name": "stdout",
     "output_type": "stream",
     "text": [
      "{'s': 2, 'c': 1, 'p': 1, 'm': 1, 'o': 2, 'n': 2, 'r': 1, 'e': 2, 'i': 1, 'h': 1}\n"
     ]
    }
   ],
   "source": [
    "word= \"comprehensions\"\n",
    "A = {letter : word.count(letter) for letter in set(word)}\n",
    "print (A)\n",
    "\n",
    "                 "
   ]
  },
  {
   "cell_type": "code",
   "execution_count": 37,
   "id": "2b211abc-db7e-4806-a928-368b43518c33",
   "metadata": {},
   "outputs": [
    {
     "name": "stdout",
     "output_type": "stream",
     "text": [
      "{'create': 6, 'letter': 6, 'Dictionary': 10, 'counts': 6, 'comprehensions': 14, 'creates': 7, 'dictionary': 10, 'example': 7, 'nested,': 7, 'dictionaries.': 13, 'allowing': 8, 'complex': 7}\n"
     ]
    }
   ],
   "source": [
    "dict = {'Dictionary', 'comprehensions', 'can', 'also', 'be', 'nested,', 'allowing', 'you', 'to', 'create', 'more','complex', 'dictionaries.', 'Here', 'is', 'an', 'example', 'that', 'creates', 'a', 'dictionary', 'of', 'letter','counts'}\n",
    "\n",
    "result = {word:len(word) for word in dict if len(word) >= 5}\n",
    "print(result)"
   ]
  },
  {
   "cell_type": "code",
   "execution_count": null,
   "id": "99c6bf1e-06dd-4139-8a3f-65480f30047d",
   "metadata": {},
   "outputs": [],
   "source": []
  },
  {
   "cell_type": "code",
   "execution_count": 39,
   "id": "50106bbc-7caf-45fb-b914-649d29afc5e4",
   "metadata": {},
   "outputs": [],
   "source": [
    "x= 5\n",
    "y = x+5\n"
   ]
  },
  {
   "cell_type": "code",
   "execution_count": 41,
   "id": "b3f7f033-3d8a-4388-9afc-129df9b879b5",
   "metadata": {},
   "outputs": [
    {
     "name": "stdout",
     "output_type": "stream",
     "text": [
      "The value of y is: 10\n"
     ]
    }
   ],
   "source": [
    "print (\"The value of y is:\", y)"
   ]
  },
  {
   "cell_type": "code",
   "execution_count": 45,
   "id": "a9441823-1609-418e-a36b-bc52661fd465",
   "metadata": {},
   "outputs": [
    {
     "name": "stdout",
     "output_type": "stream",
     "text": [
      " The value of x is: 5 The value of y is: 10\n"
     ]
    }
   ],
   "source": [
    "print (\" The value of x is:\", x , \"The value of y is:\", y)"
   ]
  },
  {
   "cell_type": "code",
   "execution_count": 49,
   "id": "7d827522-f86c-40fa-9b50-70bf501a14d3",
   "metadata": {},
   "outputs": [
    {
     "name": "stdout",
     "output_type": "stream",
     "text": [
      "x is 5 and y is  10\n"
     ]
    }
   ],
   "source": [
    "print (\"x is\",x,\"and y is \", y)"
   ]
  },
  {
   "cell_type": "code",
   "execution_count": 51,
   "id": "8b82dece-dff3-43bb-a6fd-5ce0537c4371",
   "metadata": {},
   "outputs": [
    {
     "name": "stdout",
     "output_type": "stream",
     "text": [
      " The value of x is 5 and The value of y is 10\n"
     ]
    }
   ],
   "source": [
    "print (\" The value of x is\", x , \"and The value of y is\", y)"
   ]
  },
  {
   "cell_type": "code",
   "execution_count": 51,
   "id": "531329a9-639e-41d9-a566-2dce2d916fc4",
   "metadata": {},
   "outputs": [
    {
     "name": "stdout",
     "output_type": "stream",
     "text": [
      " The value of x is 5 and The value of y is 10\n"
     ]
    }
   ],
   "source": []
  },
  {
   "cell_type": "code",
   "execution_count": 52,
   "id": "e5a9659a-e89a-49a3-9a0d-80415c50cbfb",
   "metadata": {},
   "outputs": [
    {
     "name": "stdout",
     "output_type": "stream",
     "text": [
      "Hello-World\n"
     ]
    }
   ],
   "source": [
    "print (\"Hello\" ,\"World\" ,sep =\"-\")\n"
   ]
  },
  {
   "cell_type": "code",
   "execution_count": 56,
   "id": "9780c6a2-a407-4cdd-bed8-64349e15c5b7",
   "metadata": {},
   "outputs": [
    {
     "name": "stdout",
     "output_type": "stream",
     "text": [
      "Hello World.Welcome."
     ]
    }
   ],
   "source": [
    "print (\"Hello World\", end= \".\")\n",
    "print (\"Welcome\", end =\".\")"
   ]
  },
  {
   "cell_type": "code",
   "execution_count": null,
   "id": "f69667ab-a1d0-4af6-8732-e7502eb2c34b",
   "metadata": {},
   "outputs": [],
   "source": [
    "\n"
   ]
  },
  {
   "cell_type": "code",
   "execution_count": 60,
   "id": "544dc549-7dbb-4aee-aa3a-2a48d82d6dd4",
   "metadata": {},
   "outputs": [
    {
     "name": "stdin",
     "output_type": "stream",
     "text": [
      "what is your name? Aastha\n"
     ]
    },
    {
     "name": "stdout",
     "output_type": "stream",
     "text": [
      "Hello, Aastha!\n"
     ]
    }
   ],
   "source": [
    "name= input (\"what is your name?\")\n",
    "print (\"Hello, \" +name+ \"!\")\n"
   ]
  },
  {
   "cell_type": "code",
   "execution_count": 7,
   "id": "745c1faf-7e56-41b2-9962-cff3ef913b6c",
   "metadata": {},
   "outputs": [
    {
     "name": "stdin",
     "output_type": "stream",
     "text": [
      "What is your age? 28\n"
     ]
    },
    {
     "name": "stdout",
     "output_type": "stream",
     "text": [
      "aastha you are <class 'str'> 28 years old!\n"
     ]
    }
   ],
   "source": [
    "age = int (input(\"What is your age?\"))\n",
    "name = \"aastha\"\n",
    "print(name, \"you are\", (str),age, \"years old!\")\n",
    "\n",
    "           \n",
    "\n"
   ]
  },
  {
   "cell_type": "code",
   "execution_count": 10,
   "id": "46b484ac-7445-4439-8e73-1f1626a9482e",
   "metadata": {},
   "outputs": [
    {
     "name": "stdout",
     "output_type": "stream",
     "text": [
      "12\n"
     ]
    }
   ],
   "source": [
    "my_string = \"Hello Aastha\" \n",
    "print (len(my_string))"
   ]
  },
  {
   "cell_type": "code",
   "execution_count": 13,
   "id": "17da39d8-c1de-42e3-9f71-b64819447f4b",
   "metadata": {},
   "outputs": [
    {
     "name": "stdout",
     "output_type": "stream",
     "text": [
      "8\n"
     ]
    }
   ],
   "source": [
    "my_list = [ 1,2,4,5,6,7,8,9]\n",
    "print (len(my_list))"
   ]
  },
  {
   "cell_type": "code",
   "execution_count": 14,
   "id": "c2b119f1-f2e7-4bdf-8d51-9755d96c6801",
   "metadata": {},
   "outputs": [
    {
     "name": "stdout",
     "output_type": "stream",
     "text": [
      "8\n"
     ]
    }
   ],
   "source": [
    "my_tuple = [ 1,2,4,5,6,7,8,9]\n",
    "print (len(my_tuple))"
   ]
  },
  {
   "cell_type": "code",
   "execution_count": 15,
   "id": "f07eb42e-fea3-479f-84d8-f42db216c6aa",
   "metadata": {},
   "outputs": [
    {
     "name": "stdout",
     "output_type": "stream",
     "text": [
      "2\n"
     ]
    }
   ],
   "source": [
    "my_dict= {\"apple:1\", \"mango:2\"}\n",
    "print (len(my_dict))"
   ]
  },
  {
   "cell_type": "code",
   "execution_count": 13,
   "id": "eb8b212d-4ab1-42e4-b5a8-0b523bc7bce6",
   "metadata": {},
   "outputs": [
    {
     "ename": "TypeError",
     "evalue": "'str' object is not callable",
     "output_type": "error",
     "traceback": [
      "\u001b[1;31m---------------------------------------------------------------------------\u001b[0m",
      "\u001b[1;31mTypeError\u001b[0m                                 Traceback (most recent call last)",
      "Cell \u001b[1;32mIn[13], line 3\u001b[0m\n\u001b[0;32m      1\u001b[0m name \u001b[38;5;241m=\u001b[39m [\u001b[38;5;124m\"\u001b[39m\u001b[38;5;124maastha\u001b[39m\u001b[38;5;124m\"\u001b[39m, \u001b[38;5;124m\"\u001b[39m\u001b[38;5;124mpriya\u001b[39m\u001b[38;5;124m\"\u001b[39m, \u001b[38;5;124m\"\u001b[39m\u001b[38;5;124mpratu\u001b[39m\u001b[38;5;124m\"\u001b[39m]\n\u001b[0;32m      2\u001b[0m \u001b[38;5;28;01mfor\u001b[39;00m  i, name \u001b[38;5;129;01min\u001b[39;00m \u001b[38;5;28menumerate\u001b[39m (names):\n\u001b[1;32m----> 3\u001b[0m     \u001b[38;5;28;43mprint\u001b[39;49m\u001b[43m \u001b[49m\u001b[43m(\u001b[49m\u001b[43mi\u001b[49m\u001b[43m,\u001b[49m\u001b[43m \u001b[49m\u001b[43mname\u001b[49m\u001b[43m,\u001b[49m\u001b[43m \u001b[49m\u001b[43msep\u001b[49m\u001b[38;5;241;43m=\u001b[39;49m\u001b[38;5;124;43m\"\u001b[39;49m\u001b[38;5;124;43m:\u001b[39;49m\u001b[38;5;124;43m\"\u001b[39;49m\u001b[43m)\u001b[49m\n",
      "\u001b[1;31mTypeError\u001b[0m: 'str' object is not callable"
     ]
    }
   ],
   "source": [
    "name = [\"aastha\", \"priya\", \"pratu\"]\n",
    "for  i, name in enumerate (names):\n",
    "    print (i, name, sep=\":\")\n",
    "    "
   ]
  },
  {
   "cell_type": "code",
   "execution_count": null,
   "id": "ceee9c46-011c-4213-b31d-cacb15add262",
   "metadata": {},
   "outputs": [],
   "source": [
    "list =[1,2,3] "
   ]
  }
 ],
 "metadata": {
  "kernelspec": {
   "display_name": "Python 3 (ipykernel)",
   "language": "python",
   "name": "python3"
  },
  "language_info": {
   "codemirror_mode": {
    "name": "ipython",
    "version": 3
   },
   "file_extension": ".py",
   "mimetype": "text/x-python",
   "name": "python",
   "nbconvert_exporter": "python",
   "pygments_lexer": "ipython3",
   "version": "3.12.5"
  }
 },
 "nbformat": 4,
 "nbformat_minor": 5
}
