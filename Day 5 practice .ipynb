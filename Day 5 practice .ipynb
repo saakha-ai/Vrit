{
 "cells": [
  {
   "cell_type": "code",
   "execution_count": 11,
   "id": "98f4ff39-ce0c-4d9c-a11d-e481aedd3b7e",
   "metadata": {},
   "outputs": [
    {
     "name": "stdout",
     "output_type": "stream",
     "text": [
      "(2, 3)\n"
     ]
    }
   ],
   "source": [
    "my_tuple = (1,2,3,4)\n",
    "print(my_tuple [1:3])"
   ]
  },
  {
   "cell_type": "code",
   "execution_count": 23,
   "id": "ff72bad1-de33-445f-a570-dd1b168c7740",
   "metadata": {},
   "outputs": [
    {
     "ename": "NameError",
     "evalue": "name 'm_tuple' is not defined",
     "output_type": "error",
     "traceback": [
      "\u001b[1;31m----------------------------------------------\u001b[0m",
      "\u001b[1;31mNameError\u001b[0m    Traceback (most recent call last)",
      "Cell \u001b[1;32mIn[23], line 2\u001b[0m\n\u001b[0;32m      1\u001b[0m my_tuple \u001b[38;5;241m=\u001b[39m (\u001b[38;5;241m1\u001b[39m,\u001b[38;5;241m2\u001b[39m,\u001b[38;5;241m3\u001b[39m,\u001b[38;5;241m4\u001b[39m)\n\u001b[1;32m----> 2\u001b[0m \u001b[38;5;28mprint\u001b[39m (\u001b[43mm_tuple\u001b[49m)\n",
      "\u001b[1;31mNameError\u001b[0m: name 'm_tuple' is not defined"
     ]
    }
   ],
   "source": [
    "my_tuple = (1,2,3,4)\n",
    "print (m_tuple)"
   ]
  },
  {
   "cell_type": "code",
   "execution_count": 14,
   "id": "a19343cf-b463-4948-9598-d23c6e823abd",
   "metadata": {},
   "outputs": [],
   "source": [
    "image_size =(1280,1000)"
   ]
  },
  {
   "cell_type": "code",
   "execution_count": 20,
   "id": "3b8768f7-817c-4fde-b816-fc4c691e2c9f",
   "metadata": {},
   "outputs": [],
   "source": [
    "w, h = image_size"
   ]
  },
  {
   "cell_type": "code",
   "execution_count": 26,
   "id": "7ceb9d2e-6fe7-476a-ac6a-b55097c71b94",
   "metadata": {},
   "outputs": [
    {
     "name": "stdout",
     "output_type": "stream",
     "text": [
      "{1, 2, 3, 4}\n"
     ]
    }
   ],
   "source": [
    "my_set = {1,2,3,4}\n",
    "print(my_set) "
   ]
  },
  {
   "cell_type": "code",
   "execution_count": 34,
   "id": "196ce1b0-a785-44c3-8004-df1a9269b5fd",
   "metadata": {},
   "outputs": [
    {
     "name": "stdout",
     "output_type": "stream",
     "text": [
      "{1, 2, 3, 4, 5, 6}\n"
     ]
    }
   ],
   "source": [
    "A = {1,2,3,4}\n",
    "B = {3,4,5,6}\n",
    "set3 = A.union(B)\n",
    "print (set3)\n"
   ]
  },
  {
   "cell_type": "code",
   "execution_count": 37,
   "id": "8ab19b31-533d-4501-a853-19d267729c0e",
   "metadata": {},
   "outputs": [
    {
     "name": "stdout",
     "output_type": "stream",
     "text": [
      "{3, 4}\n"
     ]
    }
   ],
   "source": [
    "set4 =A.intersection(B)\n",
    "print (set4)"
   ]
  },
  {
   "cell_type": "code",
   "execution_count": 38,
   "id": "a8c25ba2-ee9e-40db-9b51-8ccf40ac4ab2",
   "metadata": {},
   "outputs": [
    {
     "name": "stdout",
     "output_type": "stream",
     "text": [
      "{1, 2}\n"
     ]
    }
   ],
   "source": [
    "set5 = A.difference(B)\n",
    "print (set5)"
   ]
  },
  {
   "cell_type": "code",
   "execution_count": 41,
   "id": "377e0494-b984-486b-b62a-04da0d9b9787",
   "metadata": {},
   "outputs": [
    {
     "name": "stdout",
     "output_type": "stream",
     "text": [
      "{1, 2, 5, 6}\n"
     ]
    }
   ],
   "source": [
    "set6 = A.symmetric_difference(B)\n",
    "print (set6)"
   ]
  },
  {
   "cell_type": "code",
   "execution_count": null,
   "id": "6458ca11-6d48-472e-ae04-e553a657a9dd",
   "metadata": {},
   "outputs": [],
   "source": []
  },
  {
   "cell_type": "code",
   "execution_count": 44,
   "id": "07f7fe52-d96f-4d80-ac21-596981416e5d",
   "metadata": {},
   "outputs": [
    {
     "name": "stdout",
     "output_type": "stream",
     "text": [
      "{'a', 'p', 'e', 'l'}\n"
     ]
    }
   ],
   "source": [
    "my_list = [ \"a\", \"p\", \"p\", \"e\", \"l\", \"e\"]\n",
    "my_set = set(my_list)\n",
    "print (my_set)"
   ]
  },
  {
   "cell_type": "code",
   "execution_count": 46,
   "id": "783759d4-d65b-41a6-b7db-350a2c08b725",
   "metadata": {},
   "outputs": [
    {
     "name": "stdout",
     "output_type": "stream",
     "text": [
      "True\n"
     ]
    }
   ],
   "source": [
    "a=5\n",
    "b=0\n",
    "print (bool(a))"
   ]
  },
  {
   "cell_type": "code",
   "execution_count": 47,
   "id": "029d5579-93af-47b0-8c50-54be5b838045",
   "metadata": {},
   "outputs": [
    {
     "name": "stdout",
     "output_type": "stream",
     "text": [
      "False\n"
     ]
    }
   ],
   "source": [
    "print (bool(b))"
   ]
  },
  {
   "cell_type": "code",
   "execution_count": 54,
   "id": "3ee32d13-2b29-4e03-938a-394c5c02976a",
   "metadata": {},
   "outputs": [
    {
     "name": "stdout",
     "output_type": "stream",
     "text": [
      "Given number is -10\n"
     ]
    }
   ],
   "source": [
    "x= -10\n",
    "if x>0:\n",
    "    print (\"x is positive\")\n",
    "print (f\"Given number is {x}\")\n",
    "\n"
   ]
  },
  {
   "cell_type": "code",
   "execution_count": 55,
   "id": "f9911351-bb7a-4318-b62c-5ca421cc6019",
   "metadata": {},
   "outputs": [
    {
     "name": "stdout",
     "output_type": "stream",
     "text": [
      "x is positive\n",
      "Given number is 10\n"
     ]
    }
   ],
   "source": [
    "x= 10\n",
    "if x>0:\n",
    "    print (\"x is positive\")\n",
    "print (f\"Given number is {x}\")"
   ]
  },
  {
   "cell_type": "code",
   "execution_count": 56,
   "id": "be02dd43-f523-4a0a-a152-1550674d433b",
   "metadata": {},
   "outputs": [
    {
     "name": "stdout",
     "output_type": "stream",
     "text": [
      "given number is odd\n"
     ]
    }
   ],
   "source": [
    "x= 5\n",
    "y= 7\n",
    "\n",
    "if x>6:\n",
    "    print (\"x is even\")\n",
    "print (f\"given number is odd\")\n"
   ]
  },
  {
   "cell_type": "code",
   "execution_count": 66,
   "id": "73e91cec-f224-4cec-aa3c-4318d12e88de",
   "metadata": {},
   "outputs": [
    {
     "name": "stdout",
     "output_type": "stream",
     "text": [
      "odd\n"
     ]
    }
   ],
   "source": [
    "x= 5\n",
    "\n",
    "if x%2==0:\n",
    "    print (\"even\")\n",
    "    \n",
    "else:\n",
    "    print (\"odd\")"
   ]
  },
  {
   "cell_type": "code",
   "execution_count": 67,
   "id": "4c09cb72-2b51-452a-8f3d-2068d7ad1663",
   "metadata": {},
   "outputs": [
    {
     "name": "stdout",
     "output_type": "stream",
     "text": [
      "even\n"
     ]
    }
   ],
   "source": [
    "x= 12\n",
    "\n",
    "if x%2==0:\n",
    "    print (\"even\")\n",
    "    \n",
    "else:\n",
    "    print (\"odd\")"
   ]
  },
  {
   "cell_type": "code",
   "execution_count": 76,
   "id": "8a6f79ca-04a4-45a1-86c4-9b2bdb86fe8e",
   "metadata": {},
   "outputs": [
    {
     "name": "stdout",
     "output_type": "stream",
     "text": [
      "Grade B\n"
     ]
    }
   ],
   "source": [
    "x = 60\n",
    "if x >= 80:\n",
    "    print (\"Grade A\")\n",
    "elif x >= 60 and x<80:\n",
    "    print (\"Grade B\")\n",
    "elif x >= 40 and x<=60:\n",
    "    print (\"Grade C\")\n",
    "else:\n",
    "    print (\"Grade D\")\n",
    "\n",
    "\n",
    "\n",
    "    "
   ]
  },
  {
   "cell_type": "code",
   "execution_count": 83,
   "id": "9baab78c-f133-4d87-9c6f-be4817af9451",
   "metadata": {},
   "outputs": [
    {
     "name": "stdout",
     "output_type": "stream",
     "text": [
      "1275\n"
     ]
    }
   ],
   "source": [
    "n= 50\n",
    "\n",
    "s = 0\n",
    "for i in range(n+1):\n",
    "     s = s + i\n",
    "     \n",
    "print(s)\n"
   ]
  },
  {
   "cell_type": "code",
   "execution_count": null,
   "id": "9e267caa-1e3e-426f-9f2a-06be90a1c64b",
   "metadata": {},
   "outputs": [],
   "source": []
  }
 ],
 "metadata": {
  "kernelspec": {
   "display_name": "Python 3 (ipykernel)",
   "language": "python",
   "name": "python3"
  },
  "language_info": {
   "codemirror_mode": {
    "name": "ipython",
    "version": 3
   },
   "file_extension": ".py",
   "mimetype": "text/x-python",
   "name": "python",
   "nbconvert_exporter": "python",
   "pygments_lexer": "ipython3",
   "version": "3.12.5"
  }
 },
 "nbformat": 4,
 "nbformat_minor": 5
}
